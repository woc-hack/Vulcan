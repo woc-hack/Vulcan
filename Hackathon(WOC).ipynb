{
 "cells": [
  {
   "cell_type": "code",
   "execution_count": 154,
   "id": "40226255",
   "metadata": {},
   "outputs": [
    {
     "name": "stdout",
     "output_type": "stream",
     "text": [
      "Male\n",
      "Test Accuracy: 70.8%\n"
     ]
    }
   ],
   "source": [
    "# importing libraries\n",
    "import random\n",
    "from nltk.corpus import names\n",
    "import nltk\n",
    "import pandas as pd\n",
    "  \n",
    "names= pd.read_csv(\"DataSet_Gender Identification 2.csv\")\n",
    "df_male = names[names['Gender'] =='Male']\n",
    "df_female = names[names['Gender'] =='Female']\n",
    "\n",
    "labeled_names = ([(name[1].Name, 'Male') for name in df_male.iterrows()]+[(name[1].Name, 'Female') for name in df_female.iterrows()])\n",
    "\n",
    "featuresets = [(gender_features(n), gender) \n",
    "               for (n, gender)in labeled_names]\n",
    "#print(testData)\n",
    "train_set, test_set = featuresets[500:], featuresets[:500]\n",
    "\n",
    "classifier = nltk.NaiveBayesClassifier.train(train_set)\n",
    "\n",
    "def test_accuracy():\n",
    "    return nltk.classify.accuracy(classifier, test_set)\n",
    "def gender_features(word):\n",
    "    return {'last_letter':word[-1]}\n",
    "\n",
    "def guess_gender(name):\n",
    "    return classifier.classify(gender_features(name))\n",
    "\n",
    "    #print(nltk.classify.accuracy(classifier, train_set))\n",
    "    \n",
    "#print(sp.run([\"echo\", \"Geeks for geeks\"],capture_output=True))\n",
    "\n",
    "print(guess_gender('Himanshu'))\n",
    "a = test_accuracy()\n",
    "print(\"Test Accuracy: \" + str((a*100.00)) + \"%\")"
   ]
  },
  {
   "cell_type": "code",
   "execution_count": null,
   "id": "e43a5fa1",
   "metadata": {},
   "outputs": [],
   "source": []
  }
 ],
 "metadata": {
  "kernelspec": {
   "display_name": "Python 3",
   "language": "python",
   "name": "python3"
  },
  "language_info": {
   "codemirror_mode": {
    "name": "ipython",
    "version": 3
   },
   "file_extension": ".py",
   "mimetype": "text/x-python",
   "name": "python",
   "nbconvert_exporter": "python",
   "pygments_lexer": "ipython3",
   "version": "3.8.8"
  }
 },
 "nbformat": 4,
 "nbformat_minor": 5
}
